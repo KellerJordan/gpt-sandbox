{
 "cells": [
  {
   "cell_type": "code",
   "execution_count": 1,
   "id": "fd474b2b-8122-468c-8902-a1469f6c2722",
   "metadata": {
    "scrolled": true
   },
   "outputs": [
    {
     "name": "stderr",
     "output_type": "stream",
     "text": [
      "/home/keller/.local/lib/python3.10/site-packages/matplotlib/projections/__init__.py:63: UserWarning: Unable to import Axes3D. This may be due to multiple versions of Matplotlib being installed (e.g. as a system package and as a pip package). As a result, the 3D projection is not available.\n",
      "  warnings.warn(\"Unable to import Axes3D. This may be due to multiple versions of \"\n"
     ]
    }
   ],
   "source": [
    "import glob\n",
    "import json\n",
    "from tqdm import tqdm\n",
    "import matplotlib.pyplot as plt"
   ]
  },
  {
   "cell_type": "code",
   "execution_count": 2,
   "id": "e3f13c9a-1015-4240-bdd5-8d6b083f5723",
   "metadata": {},
   "outputs": [],
   "source": [
    "import torch\n",
    "import tiktoken"
   ]
  },
  {
   "cell_type": "code",
   "execution_count": 3,
   "id": "6177045a-7a9f-4720-9113-f03eb81cf5db",
   "metadata": {},
   "outputs": [
    {
     "data": {
      "application/vnd.jupyter.widget-view+json": {
       "model_id": "eb8d4a01b451427981d3e9e6c8425f05",
       "version_major": 2,
       "version_minor": 0
      },
      "text/plain": [
       "Resolving data files:   0%|          | 0/23781 [00:00<?, ?it/s]"
      ]
     },
     "metadata": {},
     "output_type": "display_data"
    },
    {
     "name": "stderr",
     "output_type": "stream",
     "text": [
      "/usr/lib/python3/dist-packages/scipy/__init__.py:146: UserWarning: A NumPy version >=1.17.3 and <1.25.0 is required for this version of SciPy (detected version 1.26.4\n",
      "  warnings.warn(f\"A NumPy version >={np_minversion} and <{np_maxversion}\"\n"
     ]
    },
    {
     "data": {
      "application/vnd.jupyter.widget-view+json": {
       "model_id": "6ef5ccb11453429ea74108c5b6385c5b",
       "version_major": 2,
       "version_minor": 0
      },
      "text/plain": [
       "Loading dataset shards:   0%|          | 0/102 [00:00<?, ?it/s]"
      ]
     },
     "metadata": {},
     "output_type": "display_data"
    }
   ],
   "source": [
    "from datasets import load_dataset\n",
    "dset = load_dataset(\"HuggingFaceFW/fineweb\", name='sample-10BT', split=\"train\", cache_dir='/data-4/keller/cache/')"
   ]
  },
  {
   "cell_type": "code",
   "execution_count": 177,
   "id": "b2b253c3-a932-4714-9b68-d35ebb98edf0",
   "metadata": {},
   "outputs": [
    {
     "name": "stderr",
     "output_type": "stream",
     "text": [
      "100%|███████████████████████████████████████████████████████████████████████████████████████████████████████████████████████████████████████████████| 500000/500000 [00:54<00:00, 9148.66it/s]\n"
     ]
    }
   ],
   "source": [
    "for i in tqdm(range(1000000)):\n",
    "    t = dset[i]['text']\n",
    "    with open('texts/%d.txt' % i, 'w') as f:\n",
    "        f.write(t)"
   ]
  },
  {
   "cell_type": "code",
   "execution_count": 226,
   "id": "c8b13b00-ec89-4650-a784-be8c7dc9a45d",
   "metadata": {},
   "outputs": [],
   "source": [
    "import bpeasy"
   ]
  },
  {
   "cell_type": "code",
   "execution_count": 247,
   "id": "8d0211c0-43c8-4178-a8c7-4bff7230e9fe",
   "metadata": {},
   "outputs": [],
   "source": [
    "class MyIter:\n",
    "    def __init__(self, n):\n",
    "        self.idx = 0\n",
    "        self.files = glob.glob('texts/*.txt')[:n]\n",
    "    def __iter__(self):\n",
    "        while True:\n",
    "            with open(self.files[self.idx]) as f:\n",
    "                s = f.read()\n",
    "                yield s\n",
    "            self.idx += 1\n",
    "            if self.idx == len(self.files):\n",
    "                return"
   ]
  },
  {
   "cell_type": "code",
   "execution_count": null,
   "id": "91502a82-be6e-4b74-ba67-52e5e0163081",
   "metadata": {},
   "outputs": [],
   "source": [
    "%%time\n",
    "\n",
    "# n_examples = 10000\n",
    "# n_examples = 200000\n",
    "n_examples = 1000000\n",
    "\n",
    "iterator = iter(MyIter(n_examples))\n",
    "\n",
    "enc = tiktoken.get_encoding(\"gpt2\")\n",
    "regex_pattern = enc._pat_str\n",
    "\n",
    "# n_vocab = 37000\n",
    "n_vocab = 10000\n",
    "\n",
    "# returns the vocab (dict[bytes, int])\n",
    "vocab = bpeasy.train_bpe(\n",
    "    iterator,\n",
    "    enc._pat_str,\n",
    "    1000000,\n",
    "    n_vocab,\n",
    ")\n",
    "\n",
    "# Sort the vocab by rank\n",
    "sorted_vocab = sorted(list(vocab.items()), key=lambda x: x[1])\n",
    "encoder = tiktoken.Encoding(\n",
    "            name='fineweb30k',\n",
    "            pat_str=enc._pat_str,\n",
    "            mergeable_ranks=dict(sorted_vocab),\n",
    "            special_tokens={'<|endoftext|>': n_vocab},\n",
    "        )"
   ]
  },
  {
   "cell_type": "code",
   "execution_count": null,
   "id": "af6c6edd-5f4d-4085-870f-276d6dc280f7",
   "metadata": {},
   "outputs": [],
   "source": [
    "enc = tiktoken.get_encoding(\"gpt2\")\n",
    "xx = []\n",
    "yy = []\n",
    "for i in tqdm(range(10000)):\n",
    "    t = dset[int(1e6)+i]['text']\n",
    "    # t = dset[i]['text']\n",
    "    xx.append(len(encoder.encode_ordinary(t)))\n",
    "    yy.append(len(enc.encode_ordinary(t)))\n",
    "\n",
    "print(sum(xx) / len(xx))\n",
    "print(sum(yy) / len(yy))\n",
    "print(sum(xx) / sum(yy))"
   ]
  },
  {
   "cell_type": "code",
   "execution_count": null,
   "id": "2768eaca-5257-4ff4-8153-c13ed5f53560",
   "metadata": {},
   "outputs": [],
   "source": [
    "# bpeasy.save_vocab_to_tiktoken(dict(sorted_vocab), \"bpeasy_fineweb_n1000k_v37k.txt\", special_tokens=[\"<|endoftext|>\"])\n",
    "bpeasy.save_vocab_to_tiktoken(dict(sorted_vocab), \"bpeasy_fineweb_n1000k_v10k.txt\", special_tokens=[\"<|endoftext|>\"])"
   ]
  },
  {
   "cell_type": "code",
   "execution_count": 392,
   "id": "eb8630b0-bf18-494f-b985-f1a5f3ae3be0",
   "metadata": {},
   "outputs": [],
   "source": [
    "# sorted_ranks = tiktoken.load.load_tiktoken_bpe('./bpeasy_fineweb_n1000k_v37k.txt')\n",
    "sorted_ranks = tiktoken.load.load_tiktoken_bpe('./bpeasy_fineweb_n1000k_v10k.txt')\n",
    "# sorted_ranks = tiktoken.load.load_tiktoken_bpe('./bpeasy_fineweb_n200k_v10k.txt')\n",
    "# sorted_ranks = tiktoken.load.load_tiktoken_bpe('/data-4/keller/notebooks/bpeasy_fineweb_n200k_v10k.txt')\n",
    "enc2 = tiktoken.Encoding(\n",
    "    name='fineweb_n1000k_v37k',\n",
    "    pat_str=enc._pat_str,\n",
    "    mergeable_ranks=sorted_ranks,\n",
    "    special_tokens={'<|endoftext|>': len(sorted_ranks)},\n",
    ")\n",
    "\n",
    "enc = tiktoken.get_encoding(\"gpt2\")\n",
    "xx = []\n",
    "yy = []\n",
    "for i in tqdm(range(50000)):\n",
    "    t = dset[int(1e6)+i]['text']\n",
    "    xx.append(len(enc2.encode_ordinary(t)))\n",
    "    yy.append(len(enc.encode_ordinary(t)))\n",
    "\n",
    "print(sum(xx) / len(xx))\n",
    "print(sum(yy) / len(yy))\n",
    "print(sum(xx) / sum(yy))"
   ]
  },
  {
   "cell_type": "code",
   "execution_count": null,
   "id": "c2ab4e00-6a8e-4def-be94-50c2af9e0be3",
   "metadata": {},
   "outputs": [],
   "source": []
  },
  {
   "cell_type": "code",
   "execution_count": null,
   "id": "5bce2e56-d2a3-48f3-a1a3-b0dbace94af2",
   "metadata": {},
   "outputs": [],
   "source": []
  },
  {
   "cell_type": "code",
   "execution_count": null,
   "id": "30f5aecb-5b1a-4cea-bc18-1f329ec00296",
   "metadata": {},
   "outputs": [],
   "source": []
  },
  {
   "cell_type": "code",
   "execution_count": null,
   "id": "01475bca-dd11-4a6c-991c-fff00ec248f5",
   "metadata": {},
   "outputs": [],
   "source": []
  },
  {
   "cell_type": "code",
   "execution_count": null,
   "id": "f3fe4f94-6c26-4046-b6fb-c1d58f8fb56b",
   "metadata": {},
   "outputs": [],
   "source": []
  },
  {
   "cell_type": "code",
   "execution_count": null,
   "id": "e9de8e8b-ce18-4578-a9a0-d843989c8921",
   "metadata": {},
   "outputs": [],
   "source": []
  }
 ],
 "metadata": {
  "kernelspec": {
   "display_name": "Python 3 (ipykernel)",
   "language": "python",
   "name": "python3"
  },
  "language_info": {
   "codemirror_mode": {
    "name": "ipython",
    "version": 3
   },
   "file_extension": ".py",
   "mimetype": "text/x-python",
   "name": "python",
   "nbconvert_exporter": "python",
   "pygments_lexer": "ipython3",
   "version": "3.10.12"
  }
 },
 "nbformat": 4,
 "nbformat_minor": 5
}
